{
 "cells": [
  {
   "attachments": {},
   "cell_type": "markdown",
   "metadata": {},
   "source": [
    "                                        Data_Wragling\n",
    "    It is the process of gathering, collecting and transforming Raw data into another format\n",
    "    for better understanding, decision_making, and analysis in less_time.\n",
    "\n",
    "    1) Data Exploration\n",
    "    2) Dealing With Missing Values\n",
    "    3) Reshaping Data\n",
    "    4) Filtering Data"
   ]
  },
  {
   "cell_type": "code",
   "execution_count": null,
   "metadata": {},
   "outputs": [],
   "source": [
    "import pandas as pd"
   ]
  },
  {
   "cell_type": "code",
   "execution_count": null,
   "metadata": {},
   "outputs": [],
   "source": [
    "data = {\n",
    "    'Name' : ['Ali', 'Jai', 'Aria', 'Qasim', 'Nadir', 'Aliya'],\n",
    "    'Age' : [14, 14 ,15, 16, 17, 17],\n",
    "    'Gender' : ['M', 'M', 'F', 'M', 'M', 'F'],\n",
    "    'Marks' :[90, 70, 'NaN', 77, 'NaN', 88]\n",
    "}\n",
    "df = pd.DataFrame(data)\n",
    "print(df)"
   ]
  },
  {
   "attachments": {},
   "cell_type": "markdown",
   "metadata": {},
   "source": [
    "Missing Value Treatment"
   ]
  },
  {
   "cell_type": "code",
   "execution_count": null,
   "metadata": {},
   "outputs": [],
   "source": [
    "##Dealing with the missing values\n",
    "a = avg = 0\n",
    "for e in df['Marks']:\n",
    "    if str(e).isnumeric():\n",
    "        a+=1\n",
    "        avg+=e\n",
    "\n",
    "avg /= a            ##Here we are finding the mean\n",
    "\n",
    "df = df.replace(to_replace='NaN', value=avg)\n",
    "print(df)"
   ]
  },
  {
   "attachments": {},
   "cell_type": "markdown",
   "metadata": {},
   "source": [
    "Reshaping The Data"
   ]
  },
  {
   "cell_type": "code",
   "execution_count": null,
   "metadata": {},
   "outputs": [],
   "source": [
    "##Here we are changing the Male, Female to 0,1\n",
    "\n",
    "df['Gender'] = df['Gender'].map({'M' : 0, 'F' : 1}).astype(float)\n",
    "print(df)"
   ]
  },
  {
   "attachments": {},
   "cell_type": "markdown",
   "metadata": {},
   "source": [
    "Filtering The Data"
   ]
  },
  {
   "cell_type": "code",
   "execution_count": null,
   "metadata": {},
   "outputs": [],
   "source": [
    "##Suppose That there is requirement to show only the top scoring students Name, Gender, Marks\n",
    "df = df[df['Marks']>=80]\n",
    "print(df)\n",
    "df = df.drop(['Age'], axis=1)       #axis is 1 beacuse we are removing the column\n",
    "print(df)"
   ]
  },
  {
   "attachments": {},
   "cell_type": "markdown",
   "metadata": {},
   "source": [
    "    merge()                                   \n",
    "pd.merge(data_fram21, data_frame2, on = \"field\")                \n",
    "Here field is the name of column which is common in both data frames            \n",
    "The data frames will be merged on the bases of common attributes"
   ]
  },
  {
   "cell_type": "code",
   "execution_count": null,
   "metadata": {},
   "outputs": [],
   "source": [
    "details = pd.DataFrame({\n",
    "    'ID': [101, 102, 103, 104, 105, 106,\n",
    "           107, 108, 109, 110],\n",
    "    'NAME': ['Jagroop', 'Praveen', 'Harjot',\n",
    "             'Pooja', 'Rahul', 'Nikita',\n",
    "             'Saurabh', 'Ayush', 'Dolly', \"Mohit\"],\n",
    "    'BRANCH': ['CSE', 'CSE', 'CSE', 'CSE', 'CSE',\n",
    "               'CSE', 'CSE', 'CSE', 'CSE', 'CSE']})\n",
    "print(details)"
   ]
  },
  {
   "cell_type": "code",
   "execution_count": null,
   "metadata": {},
   "outputs": [],
   "source": [
    "fees_status = pd.DataFrame(\n",
    "    {'ID': [101, 102, 103, 104, 105,\n",
    "            106, 107, 108, 109, 110],\n",
    "     'PENDING': ['5000', '250', 'NIL',\n",
    "                 '9000', '15000', 'NIL',\n",
    "                 '4500', '1800', '250', 'NIL']})\n",
    "print(fees_status)"
   ]
  },
  {
   "cell_type": "code",
   "execution_count": null,
   "metadata": {},
   "outputs": [],
   "source": [
    "#Merging the above two data frames on the bases of ID\n",
    "result = pd.DataFrame(pd.merge(details, fees_status, on=\"ID\"))\n",
    "print(result)"
   ]
  },
  {
   "attachments": {},
   "cell_type": "markdown",
   "metadata": {},
   "source": [
    "    Groupby()                                   \n",
    "Group the rows of data based on one or more columns"
   ]
  },
  {
   "cell_type": "code",
   "execution_count": null,
   "metadata": {},
   "outputs": [],
   "source": [
    "#Suppose that we have a data of car selling companies we want to wrangle data where cars\n",
    "#are sold in year 2010\n",
    "car_selling_data = pd.DataFrame({'Brand': ['Maruti', 'Maruti', 'Maruti',\n",
    "                              'Maruti', 'Hyundai', 'Hyundai',\n",
    "                              'Toyota', 'Mahindra', 'Mahindra',\n",
    "                              'Ford', 'Toyota', 'Ford'],\n",
    "                    'Year':  [2010, 2011, 2009, 2013,\n",
    "                              2010, 2011, 2011, 2010,\n",
    "                              2013, 2010, 2010, 2011],\n",
    "                    'Sold': [6, 7, 9, 8, 3, 5,\n",
    "                             2, 8, 7, 2, 4, 2]})\n",
    "print(car_selling_data)"
   ]
  },
  {
   "cell_type": "code",
   "execution_count": null,
   "metadata": {},
   "outputs": [],
   "source": [
    "#group the data frame by year\n",
    "grouped = car_selling_data.groupby('Year')\n",
    "print(grouped.get_group(2010))"
   ]
  },
  {
   "attachments": {},
   "cell_type": "markdown",
   "metadata": {},
   "source": [
    "    duplicated()\n",
    "    datafram.duplicated(subset = none, keep = 'first/last/false')               \n",
    "keep = 'first' then first value is kept original and rest all will be removed       \n",
    "keep = 'last' then last value is kept original and rest all will be removed                 \n",
    "keep = 'false' then all values which are repeated more than once will be removed"
   ]
  },
  {
   "cell_type": "code",
   "execution_count": null,
   "metadata": {},
   "outputs": [],
   "source": [
    "student_data = pd.DataFrame({'Name': ['Amit', 'Praveen', 'Jagroop',\n",
    "                         'Rahul', 'Vishal', 'Suraj',\n",
    "                         'Rishab', 'Satyapal', 'Amit',\n",
    "                         'Rahul', 'Praveen', 'Amit'],\n",
    " \n",
    "                'Roll_no': [23, 54, 29, 36, 59, 38,\n",
    "                            12, 45, 34, 36, 54, 23],\n",
    " \n",
    "                'Email': ['xxxx@gmail.com', 'xxxxxx@gmail.com',\n",
    "                          'xxxxxx@gmail.com', 'xx@gmail.com',\n",
    "                          'xxxx@gmail.com', 'xxxxx@gmail.com',\n",
    "                          'xxxxx@gmail.com', 'xxxxx@gmail.com',\n",
    "                          'xxxxx@gmail.com', 'xxxxxx@gmail.com',\n",
    "                          'xxxxxxxxxx@gmail.com', 'xxxxxxxxxx@gmail.com']})\n",
    "print(student_data)"
   ]
  },
  {
   "cell_type": "code",
   "execution_count": null,
   "metadata": {},
   "outputs": [],
   "source": [
    "result = student_data.drop_duplicates(subset=['Roll_no'])\n",
    "print(result)\n",
    "print()\n",
    "##Display Duplicated Rows\n",
    "dupli = student_data[student_data.duplicated('Roll_no')]\n",
    "print(dupli)\n",
    "print()\n",
    "## ~(NOT) is placed to get the non duplicated values\n",
    "result = student_data[~student_data.duplicated('Roll_no')]\n",
    "print(result)"
   ]
  }
 ],
 "metadata": {
  "kernelspec": {
   "display_name": "Python 3",
   "language": "python",
   "name": "python3"
  },
  "language_info": {
   "codemirror_mode": {
    "name": "ipython",
    "version": 3
   },
   "file_extension": ".py",
   "mimetype": "text/x-python",
   "name": "python",
   "nbconvert_exporter": "python",
   "pygments_lexer": "ipython3",
   "version": "3.10.1"
  },
  "orig_nbformat": 4
 },
 "nbformat": 4,
 "nbformat_minor": 2
}
