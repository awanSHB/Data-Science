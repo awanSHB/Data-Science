{
 "cells": [
  {
   "cell_type": "code",
   "execution_count": null,
   "metadata": {},
   "outputs": [],
   "source": [
    "# The following are the queries which we can perform on the dataset:\n",
    "# i.\tAccess the records for the specific date.\n",
    "# ii.\tAccess the records for the specific region.\n",
    "# iii.\tAccess the records for where birth rate is higher or lower than a given value.\n",
    "# iv.\tFind the total number of births in the particular region.\n",
    "# v.\tFind the total number of deaths in the particular region.\n",
    "# vi.\tFind the region with highest birth rate.\n",
    "# vii.\tFind the region with highest death rate.\n",
    "# viii.\tFind the number of births in a specific region.\n",
    "# ix.\tFind the number deaths in a specific region.\n",
    "# x.\tFind the number of divorces in the particular date.\n",
    "# xi.\tFind the divorce rate in the particular year.\n",
    "# xii.\tFind the birth rate and death rate in a particular year.\n",
    "# xiii.\tCalculate the divorce rate for the specific divorce range.\n",
    "# xiv.\tCalculate the birth rate for the specific birth range.\n",
    "# xv.\tFind the number of marriages in the specific region.\n",
    "# xvi.\tFind the marriage rate in a particular year.\n",
    "# xvii.\tGet the natural growth (birth – death) for the specific region.\n",
    "# xviii.\tFind the year and region with the highest natural growth.\n",
    "# xix.\tGet the top 10 regions with the highest natural growth rate.\n",
    "# xx.\tGet the top 10 regions in a particular year for the highest or lowest marriage rate.\n",
    "# xxi.\tAccess the records of those regions with negative natural growth.\n",
    "# xxii.\tForecast the average duration of marriages in the next years.\n",
    "# xxiii.\tPredict the population growth for the next year.\n",
    "# xxiv.\tDetermine the median age of the population in a certain region.\n",
    "# xxv.\tFind-out the successful marriages, in a region, in a year."
   ]
  }
 ],
 "metadata": {
  "language_info": {
   "name": "python"
  },
  "orig_nbformat": 4
 },
 "nbformat": 4,
 "nbformat_minor": 2
}
