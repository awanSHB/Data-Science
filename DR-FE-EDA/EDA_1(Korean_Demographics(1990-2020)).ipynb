{
 "cells": [
  {
   "cell_type": "code",
   "execution_count": null,
   "metadata": {},
   "outputs": [],
   "source": [
    "import pandas as pd\n",
    "import numpy as np\n",
    "import seaborn as sbn\n",
    "import matplotlib.pyplot as plt\n",
    "import plotly.express as px\n",
    "# plt.style.use('default')\n",
    "plt.rcParams['figure.figsize'] = (18, 6)"
   ]
  },
  {
   "cell_type": "code",
   "execution_count": null,
   "metadata": {},
   "outputs": [],
   "source": [
    "DF_A = pd.read_csv(\"D:\\PROGRAMMING\\DATASETS\\Korean_demographics_2000-2022.csv\")\n",
    "DF_A"
   ]
  },
  {
   "cell_type": "code",
   "execution_count": null,
   "metadata": {},
   "outputs": [],
   "source": [
    "DF_A.head()"
   ]
  },
  {
   "cell_type": "code",
   "execution_count": null,
   "metadata": {},
   "outputs": [],
   "source": [
    "DF_A.tail()"
   ]
  },
  {
   "cell_type": "code",
   "execution_count": null,
   "metadata": {},
   "outputs": [],
   "source": [
    "##Checking out the number of rows and columns\n",
    "print(\"The no. of rows are: \", DF_A.shape[0])\n",
    "print(\"The no. of cols are: \", DF_A.shape[1])"
   ]
  },
  {
   "cell_type": "code",
   "execution_count": null,
   "metadata": {},
   "outputs": [],
   "source": [
    "DF_A.nunique()"
   ]
  },
  {
   "cell_type": "code",
   "execution_count": null,
   "metadata": {},
   "outputs": [],
   "source": [
    "DF_A.info()"
   ]
  },
  {
   "cell_type": "code",
   "execution_count": null,
   "metadata": {},
   "outputs": [],
   "source": [
    "A = DF_A.columns.to_list()\n",
    "for i in range(0, len(A), 5):\n",
    "    print(\", \".join(A[i:i+5]))"
   ]
  },
  {
   "cell_type": "code",
   "execution_count": null,
   "metadata": {},
   "outputs": [],
   "source": [
    "B = DF_A.columns.to_list()\n",
    "cols = [B[i:i+5] for i in range(0, len(B), 5)]\n",
    "cols\n",
    "# for i in cols:\n",
    "#     print(i)"
   ]
  },
  {
   "cell_type": "code",
   "execution_count": null,
   "metadata": {},
   "outputs": [],
   "source": [
    "DF_A.dtypes"
   ]
  },
  {
   "cell_type": "code",
   "execution_count": null,
   "metadata": {},
   "outputs": [],
   "source": [
    "##Checking the total regions\n",
    "list(DF_A['Region'].unique())"
   ]
  },
  {
   "attachments": {},
   "cell_type": "markdown",
   "metadata": {},
   "source": [
    "Dealing With Missing Values"
   ]
  },
  {
   "cell_type": "code",
   "execution_count": null,
   "metadata": {},
   "outputs": [],
   "source": [
    "count_missing = DF_A.isna().sum().to_dict()\n",
    "sort_missing = sorted(count_missing.items(), key=lambda x:x[1], reverse=True)  # 1-vals, 0-keys\n",
    "for k in sort_missing:\n",
    "    print(k[0], \" : \", k[1])"
   ]
  },
  {
   "cell_type": "code",
   "execution_count": null,
   "metadata": {},
   "outputs": [],
   "source": [
    "##Removing the missing values\n",
    "DF_A = DF_A.dropna()\n",
    "DF_A.isna().sum()"
   ]
  },
  {
   "cell_type": "code",
   "execution_count": null,
   "metadata": {},
   "outputs": [],
   "source": [
    "print(\"The rows are : \", DF_A.shape[0])\n",
    "print(\"The cols are : \", DF_A.shape[1])"
   ]
  },
  {
   "cell_type": "code",
   "execution_count": null,
   "metadata": {},
   "outputs": [],
   "source": [
    "##Checking for the duplicate values\n",
    "DF_A.duplicated().value_counts()"
   ]
  },
  {
   "cell_type": "code",
   "execution_count": null,
   "metadata": {},
   "outputs": [],
   "source": [
    "DF_A[DF_A.duplicated()]\n",
    "##So there are no duplicate values"
   ]
  },
  {
   "cell_type": "code",
   "execution_count": null,
   "metadata": {},
   "outputs": [],
   "source": [
    "cols"
   ]
  },
  {
   "attachments": {},
   "cell_type": "markdown",
   "metadata": {},
   "source": [
    "Data Transformation"
   ]
  },
  {
   "cell_type": "code",
   "execution_count": null,
   "metadata": {},
   "outputs": [],
   "source": [
    "##Creating a duplicate dataset\n",
    "DF_B = DF_A.copy()\n",
    "DF_B"
   ]
  },
  {
   "cell_type": "code",
   "execution_count": null,
   "metadata": {},
   "outputs": [],
   "source": [
    "DF_B.loc[:, \"Successfull_Marriages\"] = DF_B['Marriage']-DF_B['Divorce']\n",
    "DF_B.loc[:, \"Life_Expectance\"] = DF_B[\"Birth\"]-DF_B[\"Death\"]\n",
    "DF_B.loc[:, \"Life_Expectance_rate\"] = DF_B[\"Birth_rate\"]-DF_B[\"Death_rate\"]\n",
    "DF_B.head()\n"
   ]
  },
  {
   "cell_type": "code",
   "execution_count": null,
   "metadata": {},
   "outputs": [],
   "source": [
    "group_data = DF_B.groupby('Region')\n",
    "Busan = group_data.get_group('Busan')\n",
    "busan_stats = Busan.describe().round(2)\n",
    "busan_stats"
   ]
  },
  {
   "cell_type": "code",
   "execution_count": null,
   "metadata": {},
   "outputs": [],
   "source": [
    "DF_C = DF_B.copy()\n",
    "DF_C = DF_C.drop(DF_C[DF_C['Region']=='Whole country'].index)\n",
    "DF_C"
   ]
  },
  {
   "cell_type": "code",
   "execution_count": null,
   "metadata": {},
   "outputs": [],
   "source": [
    "##Converting The data into year\n",
    "DF_C['Date'] = pd.to_datetime(DF_C['Date'])\n",
    "DF_C['Year'] = DF_C['Date'].dt.year\n",
    "group_data_A = DF_C.groupby(['Region', 'Year']).mean().round(2).reset_index()\n",
    "group_data_A"
   ]
  },
  {
   "cell_type": "code",
   "execution_count": null,
   "metadata": {},
   "outputs": [],
   "source": [
    "group_data_region = group_data_A.groupby('Region').mean().round(2).reset_index()\n",
    "group_data_region"
   ]
  },
  {
   "cell_type": "code",
   "execution_count": null,
   "metadata": {},
   "outputs": [],
   "source": [
    "group_data_year = group_data_A.groupby('Year').mean().round(2).reset_index()\n",
    "group_data_year"
   ]
  },
  {
   "attachments": {},
   "cell_type": "markdown",
   "metadata": {},
   "source": [
    "Visualization"
   ]
  },
  {
   "cell_type": "code",
   "execution_count": null,
   "metadata": {},
   "outputs": [],
   "source": [
    "px.histogram(group_data_region, x = \"Region\", y = \"Birth\")"
   ]
  },
  {
   "cell_type": "code",
   "execution_count": null,
   "metadata": {},
   "outputs": [],
   "source": [
    "plt.rcParams['figure.figsize'] = (30, 15)\n",
    "plt.bar(group_data_region['Region'], group_data_region['Birth'])\n",
    "plt.show()"
   ]
  },
  {
   "cell_type": "code",
   "execution_count": null,
   "metadata": {},
   "outputs": [],
   "source": [
    "sbn.barplot(x = \"Region\", y = \"Birth\", data=group_data_region, color = \"blue\")"
   ]
  },
  {
   "cell_type": "code",
   "execution_count": null,
   "metadata": {},
   "outputs": [],
   "source": [
    "group_data_region"
   ]
  }
 ],
 "metadata": {
  "kernelspec": {
   "display_name": "Python 3",
   "language": "python",
   "name": "python3"
  },
  "language_info": {
   "codemirror_mode": {
    "name": "ipython",
    "version": 3
   },
   "file_extension": ".py",
   "mimetype": "text/x-python",
   "name": "python",
   "nbconvert_exporter": "python",
   "pygments_lexer": "ipython3",
   "version": "3.10.1"
  },
  "orig_nbformat": 4
 },
 "nbformat": 4,
 "nbformat_minor": 2
}
